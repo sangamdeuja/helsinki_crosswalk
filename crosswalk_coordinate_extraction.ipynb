{
 "cells": [
  {
   "cell_type": "markdown",
   "metadata": {},
   "source": [
    "## Objective 1: Extracting helsinki city-center image and level the coordinates of crossroads "
   ]
  },
  {
   "cell_type": "code",
   "execution_count": 3,
   "metadata": {},
   "outputs": [],
   "source": [
    "##let's read the image data from wms api\n",
    "from owslib.wms import WebMapService\n",
    "import os"
   ]
  },
  {
   "cell_type": "code",
   "execution_count": 4,
   "metadata": {},
   "outputs": [],
   "source": [
    "wms = WebMapService('https://kartta.hel.fi/ws/geoserver/avoindata/wms', version='1.3.0')"
   ]
  },
  {
   "cell_type": "code",
   "execution_count": 3,
   "metadata": {},
   "outputs": [],
   "source": [
    "##These coordinates locate focssed image nearby Central Railway Station\n",
    "minX=24.941622\n",
    "minY=60.170030\n",
    "maxX=24.947408\n",
    "maxY=60.173158\n",
    "min_x_cord=[]\n",
    "max_x_cord=[]\n",
    "min_y_cord=[]\n",
    "max_y_cord=[]\n",
    "img_name=[]\n",
    "a=np.linspace(minX,maxX,10)\n",
    "b=np.linspace(minY,maxY,10)\n",
    "counter=0\n",
    "imgpath=\"C:/Users/35841/images/citycenterfocussed500by500/\"\n",
    "image_files=[f for f in os.listdir(imgpath)]\n"
   ]
  },
  {
   "cell_type": "code",
   "execution_count": 4,
   "metadata": {
    "code_folding": []
   },
   "outputs": [],
   "source": [
    "##Creating patches for the image\n",
    "for i in range(0,len(a)-1):\n",
    "    for j in range(0,len(b)-1):\n",
    "        image_name='center_'+str(counter)\n",
    "        if not image_files:\n",
    "            img=wms.getmap(layers=[\"Ortoilmakuva_2019_5cm\"],srs=\"EPSG:4123\",bbox=(a[i],b[j],a[i+1],b[j+1]),size=(500,500),format='image/png',transparent=True)\n",
    "            out = open(\"images/citycenterfocussed500by500/\"+image_name+'.png', 'wb')\n",
    "            out.write(img.read())\n",
    "            out.close()\n",
    "        min_x_cord.append(a[i])\n",
    "        min_y_cord.append(b[j])\n",
    "        max_x_cord.append(a[i+1])\n",
    "        max_y_cord.append(b[j+1])\n",
    "        img_name.append(image_name)\n",
    "        counter+=1\n",
    "                   "
   ]
  },
  {
   "cell_type": "code",
   "execution_count": 5,
   "metadata": {},
   "outputs": [],
   "source": [
    "import shutil\n",
    "import zipfile\n",
    "import urllib\n",
    "import xml.etree.ElementTree as ET\n",
    "import numpy as np\n",
    "import csv\n",
    "import pandas as pd\n",
    "\n",
    "ANNOTATIONS_FILE = 'annotations.csv'\n",
    "CLASSES_FILE = 'classes.csv'\n"
   ]
  },
  {
   "cell_type": "code",
   "execution_count": 6,
   "metadata": {},
   "outputs": [],
   "source": [
    "##After labelling the images using labelImg \"https://github.com/tzutalin/labelImg\", the code below crates the annotaion file\n",
    "annotations = []\n",
    "classes = set([])\n",
    "DATASET_DIR=\"C:/Users/35841/images/xml_citycenter_focussed/\"\n",
    "for xml_file in [f for f in os.listdir(DATASET_DIR) if f.endswith(\".xml\")]:\n",
    "  tree = ET.parse(os.path.join(DATASET_DIR, xml_file))\n",
    "  root = tree.getroot()\n",
    "\n",
    "  file_name = None\n",
    "\n",
    "  for elem in root:\n",
    "    if elem.tag == 'filename':\n",
    "      file_name = os.path.join(DATASET_DIR, elem.text)\n",
    "\n",
    "    if elem.tag == 'object':\n",
    "      obj_name = None\n",
    "      coords = []\n",
    "      for subelem in elem:\n",
    "        if subelem.tag == 'name':\n",
    "          obj_name = subelem.text\n",
    "        if subelem.tag == 'bndbox':\n",
    "          for subsubelem in subelem:\n",
    "            coords.append(subsubelem.text)\n",
    "      item = [file_name] + coords + [obj_name]\n",
    "      annotations.append(item)\n",
    "      classes.add(obj_name)\n",
    "\n",
    "with open(ANNOTATIONS_FILE, 'w') as f:\n",
    "  writer = csv.writer(f)\n",
    "  writer.writerows(annotations)\n",
    "\n",
    "with open(CLASSES_FILE, 'w') as f:\n",
    "  for i, line in enumerate(classes):\n",
    "    f.write('{},{}\\n'.format(line,i))\n"
   ]
  },
  {
   "cell_type": "code",
   "execution_count": 7,
   "metadata": {},
   "outputs": [
    {
     "name": "stdout",
     "output_type": "stream",
     "text": [
      "(81, 5)\n"
     ]
    },
    {
     "data": {
      "text/html": [
       "<div>\n",
       "<style scoped>\n",
       "    .dataframe tbody tr th:only-of-type {\n",
       "        vertical-align: middle;\n",
       "    }\n",
       "\n",
       "    .dataframe tbody tr th {\n",
       "        vertical-align: top;\n",
       "    }\n",
       "\n",
       "    .dataframe thead th {\n",
       "        text-align: right;\n",
       "    }\n",
       "</style>\n",
       "<table border=\"1\" class=\"dataframe\">\n",
       "  <thead>\n",
       "    <tr style=\"text-align: right;\">\n",
       "      <th></th>\n",
       "      <th>img_name</th>\n",
       "      <th>min_x_cord</th>\n",
       "      <th>max_x_cord</th>\n",
       "      <th>min_y_cord</th>\n",
       "      <th>max_y_cord</th>\n",
       "    </tr>\n",
       "  </thead>\n",
       "  <tbody>\n",
       "    <tr>\n",
       "      <th>0</th>\n",
       "      <td>center_0</td>\n",
       "      <td>24.941622</td>\n",
       "      <td>24.942265</td>\n",
       "      <td>60.170030</td>\n",
       "      <td>60.170378</td>\n",
       "    </tr>\n",
       "    <tr>\n",
       "      <th>1</th>\n",
       "      <td>center_1</td>\n",
       "      <td>24.941622</td>\n",
       "      <td>24.942265</td>\n",
       "      <td>60.170378</td>\n",
       "      <td>60.170725</td>\n",
       "    </tr>\n",
       "    <tr>\n",
       "      <th>2</th>\n",
       "      <td>center_2</td>\n",
       "      <td>24.941622</td>\n",
       "      <td>24.942265</td>\n",
       "      <td>60.170725</td>\n",
       "      <td>60.171073</td>\n",
       "    </tr>\n",
       "    <tr>\n",
       "      <th>3</th>\n",
       "      <td>center_3</td>\n",
       "      <td>24.941622</td>\n",
       "      <td>24.942265</td>\n",
       "      <td>60.171073</td>\n",
       "      <td>60.171420</td>\n",
       "    </tr>\n",
       "    <tr>\n",
       "      <th>4</th>\n",
       "      <td>center_4</td>\n",
       "      <td>24.941622</td>\n",
       "      <td>24.942265</td>\n",
       "      <td>60.171420</td>\n",
       "      <td>60.171768</td>\n",
       "    </tr>\n",
       "  </tbody>\n",
       "</table>\n",
       "</div>"
      ],
      "text/plain": [
       "   img_name  min_x_cord  max_x_cord  min_y_cord  max_y_cord\n",
       "0  center_0   24.941622   24.942265   60.170030   60.170378\n",
       "1  center_1   24.941622   24.942265   60.170378   60.170725\n",
       "2  center_2   24.941622   24.942265   60.170725   60.171073\n",
       "3  center_3   24.941622   24.942265   60.171073   60.171420\n",
       "4  center_4   24.941622   24.942265   60.171420   60.171768"
      ]
     },
     "execution_count": 7,
     "metadata": {},
     "output_type": "execute_result"
    }
   ],
   "source": [
    "##Let's create the dataframe that consists the image name and the corresponding latitude and longitude columns\n",
    "df = pd.DataFrame(list(zip(img_name, min_x_cord,max_x_cord,min_y_cord,max_y_cord)), columns =['img_name', 'min_x_cord','max_x_cord','min_y_cord','max_y_cord'], dtype = float)\n",
    "print(df.shape)\n",
    "df.head(5)"
   ]
  },
  {
   "cell_type": "code",
   "execution_count": 8,
   "metadata": {},
   "outputs": [
    {
     "data": {
      "text/html": [
       "<div>\n",
       "<style scoped>\n",
       "    .dataframe tbody tr th:only-of-type {\n",
       "        vertical-align: middle;\n",
       "    }\n",
       "\n",
       "    .dataframe tbody tr th {\n",
       "        vertical-align: top;\n",
       "    }\n",
       "\n",
       "    .dataframe thead th {\n",
       "        text-align: right;\n",
       "    }\n",
       "</style>\n",
       "<table border=\"1\" class=\"dataframe\">\n",
       "  <thead>\n",
       "    <tr style=\"text-align: right;\">\n",
       "      <th></th>\n",
       "      <th>img_name</th>\n",
       "      <th>x_min</th>\n",
       "      <th>y_min</th>\n",
       "      <th>x_max</th>\n",
       "      <th>y_max</th>\n",
       "      <th>label</th>\n",
       "    </tr>\n",
       "  </thead>\n",
       "  <tbody>\n",
       "    <tr>\n",
       "      <th>0</th>\n",
       "      <td>C:/Users/35841/images/xml_citycenter_focussed/...</td>\n",
       "      <td>1</td>\n",
       "      <td>1</td>\n",
       "      <td>496</td>\n",
       "      <td>497</td>\n",
       "      <td>Unknown</td>\n",
       "    </tr>\n",
       "    <tr>\n",
       "      <th>1</th>\n",
       "      <td>C:/Users/35841/images/xml_citycenter_focussed/...</td>\n",
       "      <td>2</td>\n",
       "      <td>1</td>\n",
       "      <td>497</td>\n",
       "      <td>500</td>\n",
       "      <td>Unknown</td>\n",
       "    </tr>\n",
       "    <tr>\n",
       "      <th>2</th>\n",
       "      <td>C:/Users/35841/images/xml_citycenter_focussed/...</td>\n",
       "      <td>2</td>\n",
       "      <td>2</td>\n",
       "      <td>500</td>\n",
       "      <td>498</td>\n",
       "      <td>Unknown</td>\n",
       "    </tr>\n",
       "    <tr>\n",
       "      <th>3</th>\n",
       "      <td>C:/Users/35841/images/xml_citycenter_focussed/...</td>\n",
       "      <td>5</td>\n",
       "      <td>3</td>\n",
       "      <td>493</td>\n",
       "      <td>499</td>\n",
       "      <td>Unknown</td>\n",
       "    </tr>\n",
       "    <tr>\n",
       "      <th>4</th>\n",
       "      <td>C:/Users/35841/images/xml_citycenter_focussed/...</td>\n",
       "      <td>30</td>\n",
       "      <td>364</td>\n",
       "      <td>256</td>\n",
       "      <td>499</td>\n",
       "      <td>crossroad</td>\n",
       "    </tr>\n",
       "  </tbody>\n",
       "</table>\n",
       "</div>"
      ],
      "text/plain": [
       "                                            img_name  x_min  y_min  x_max  \\\n",
       "0  C:/Users/35841/images/xml_citycenter_focussed/...      1      1    496   \n",
       "1  C:/Users/35841/images/xml_citycenter_focussed/...      2      1    497   \n",
       "2  C:/Users/35841/images/xml_citycenter_focussed/...      2      2    500   \n",
       "3  C:/Users/35841/images/xml_citycenter_focussed/...      5      3    493   \n",
       "4  C:/Users/35841/images/xml_citycenter_focussed/...     30    364    256   \n",
       "\n",
       "   y_max      label  \n",
       "0    497    Unknown  \n",
       "1    500    Unknown  \n",
       "2    498    Unknown  \n",
       "3    499    Unknown  \n",
       "4    499  crossroad  "
      ]
     },
     "execution_count": 8,
     "metadata": {},
     "output_type": "execute_result"
    }
   ],
   "source": [
    "##Creating another dataframe from the annotation.csv obtained after labelling the images\n",
    "crossroad_df=pd.read_csv(\"annotations.csv\",names=[\"img_name\",\"x_min\",\"y_min\",\"x_max\",\"y_max\",\"label\"])\n",
    "crossroad_df.head(5)"
   ]
  },
  {
   "cell_type": "code",
   "execution_count": 9,
   "metadata": {},
   "outputs": [
    {
     "data": {
      "text/html": [
       "<div>\n",
       "<style scoped>\n",
       "    .dataframe tbody tr th:only-of-type {\n",
       "        vertical-align: middle;\n",
       "    }\n",
       "\n",
       "    .dataframe tbody tr th {\n",
       "        vertical-align: top;\n",
       "    }\n",
       "\n",
       "    .dataframe thead th {\n",
       "        text-align: right;\n",
       "    }\n",
       "</style>\n",
       "<table border=\"1\" class=\"dataframe\">\n",
       "  <thead>\n",
       "    <tr style=\"text-align: right;\">\n",
       "      <th></th>\n",
       "      <th>img_name</th>\n",
       "      <th>x_min</th>\n",
       "      <th>y_min</th>\n",
       "      <th>x_max</th>\n",
       "      <th>y_max</th>\n",
       "      <th>label</th>\n",
       "      <th>count</th>\n",
       "    </tr>\n",
       "  </thead>\n",
       "  <tbody>\n",
       "    <tr>\n",
       "      <th>0</th>\n",
       "      <td>center_0</td>\n",
       "      <td>1</td>\n",
       "      <td>1</td>\n",
       "      <td>496</td>\n",
       "      <td>497</td>\n",
       "      <td>Unknown</td>\n",
       "      <td>0</td>\n",
       "    </tr>\n",
       "    <tr>\n",
       "      <th>1</th>\n",
       "      <td>center_1</td>\n",
       "      <td>2</td>\n",
       "      <td>1</td>\n",
       "      <td>497</td>\n",
       "      <td>500</td>\n",
       "      <td>Unknown</td>\n",
       "      <td>1</td>\n",
       "    </tr>\n",
       "    <tr>\n",
       "      <th>16</th>\n",
       "      <td>center_2</td>\n",
       "      <td>344</td>\n",
       "      <td>390</td>\n",
       "      <td>491</td>\n",
       "      <td>479</td>\n",
       "      <td>crossroad</td>\n",
       "      <td>2</td>\n",
       "    </tr>\n",
       "    <tr>\n",
       "      <th>15</th>\n",
       "      <td>center_2</td>\n",
       "      <td>333</td>\n",
       "      <td>291</td>\n",
       "      <td>484</td>\n",
       "      <td>365</td>\n",
       "      <td>crossroad</td>\n",
       "      <td>2</td>\n",
       "    </tr>\n",
       "    <tr>\n",
       "      <th>29</th>\n",
       "      <td>center_3</td>\n",
       "      <td>1</td>\n",
       "      <td>1</td>\n",
       "      <td>499</td>\n",
       "      <td>500</td>\n",
       "      <td>Unknown</td>\n",
       "      <td>3</td>\n",
       "    </tr>\n",
       "  </tbody>\n",
       "</table>\n",
       "</div>"
      ],
      "text/plain": [
       "    img_name  x_min  y_min  x_max  y_max      label  count\n",
       "0   center_0      1      1    496    497    Unknown      0\n",
       "1   center_1      2      1    497    500    Unknown      1\n",
       "16  center_2    344    390    491    479  crossroad      2\n",
       "15  center_2    333    291    484    365  crossroad      2\n",
       "29  center_3      1      1    499    500    Unknown      3"
      ]
     },
     "execution_count": 9,
     "metadata": {},
     "output_type": "execute_result"
    }
   ],
   "source": [
    "crossroad_df[\"img_name\"]=crossroad_df[\"img_name\"].str.replace(\"C:/Users/35841/images/xml_citycenter_focussed/\",\"\").str.replace(\".png\",\"\")\n",
    "crossroad_df[\"count\"]=crossroad_df[\"img_name\"].str.extract((r'(\\d+)'))\n",
    "crossroad_df[\"count\"]=crossroad_df[\"count\"].astype(int)\n",
    "crossroad_df=crossroad_df.sort_values(by=[\"count\"])\n",
    "crossroad_df.head(5)"
   ]
  },
  {
   "cell_type": "code",
   "execution_count": 36,
   "metadata": {},
   "outputs": [
    {
     "data": {
      "text/html": [
       "<div>\n",
       "<style scoped>\n",
       "    .dataframe tbody tr th:only-of-type {\n",
       "        vertical-align: middle;\n",
       "    }\n",
       "\n",
       "    .dataframe tbody tr th {\n",
       "        vertical-align: top;\n",
       "    }\n",
       "\n",
       "    .dataframe thead th {\n",
       "        text-align: right;\n",
       "    }\n",
       "</style>\n",
       "<table border=\"1\" class=\"dataframe\">\n",
       "  <thead>\n",
       "    <tr style=\"text-align: right;\">\n",
       "      <th></th>\n",
       "      <th>img_name</th>\n",
       "      <th>x_min</th>\n",
       "      <th>y_min</th>\n",
       "      <th>x_max</th>\n",
       "      <th>y_max</th>\n",
       "      <th>label</th>\n",
       "      <th>count</th>\n",
       "      <th>numeric_label</th>\n",
       "    </tr>\n",
       "  </thead>\n",
       "  <tbody>\n",
       "    <tr>\n",
       "      <th>0</th>\n",
       "      <td>center_0</td>\n",
       "      <td>1</td>\n",
       "      <td>1</td>\n",
       "      <td>496</td>\n",
       "      <td>497</td>\n",
       "      <td>Unknown</td>\n",
       "      <td>0</td>\n",
       "      <td>0</td>\n",
       "    </tr>\n",
       "    <tr>\n",
       "      <th>1</th>\n",
       "      <td>center_1</td>\n",
       "      <td>2</td>\n",
       "      <td>1</td>\n",
       "      <td>497</td>\n",
       "      <td>500</td>\n",
       "      <td>Unknown</td>\n",
       "      <td>1</td>\n",
       "      <td>0</td>\n",
       "    </tr>\n",
       "    <tr>\n",
       "      <th>16</th>\n",
       "      <td>center_2</td>\n",
       "      <td>344</td>\n",
       "      <td>390</td>\n",
       "      <td>491</td>\n",
       "      <td>479</td>\n",
       "      <td>crossroad</td>\n",
       "      <td>2</td>\n",
       "      <td>1</td>\n",
       "    </tr>\n",
       "    <tr>\n",
       "      <th>15</th>\n",
       "      <td>center_2</td>\n",
       "      <td>333</td>\n",
       "      <td>291</td>\n",
       "      <td>484</td>\n",
       "      <td>365</td>\n",
       "      <td>crossroad</td>\n",
       "      <td>2</td>\n",
       "      <td>1</td>\n",
       "    </tr>\n",
       "    <tr>\n",
       "      <th>29</th>\n",
       "      <td>center_3</td>\n",
       "      <td>1</td>\n",
       "      <td>1</td>\n",
       "      <td>499</td>\n",
       "      <td>500</td>\n",
       "      <td>Unknown</td>\n",
       "      <td>3</td>\n",
       "      <td>0</td>\n",
       "    </tr>\n",
       "  </tbody>\n",
       "</table>\n",
       "</div>"
      ],
      "text/plain": [
       "    img_name  x_min  y_min  x_max  y_max      label  count  numeric_label\n",
       "0   center_0      1      1    496    497    Unknown      0              0\n",
       "1   center_1      2      1    497    500    Unknown      1              0\n",
       "16  center_2    344    390    491    479  crossroad      2              1\n",
       "15  center_2    333    291    484    365  crossroad      2              1\n",
       "29  center_3      1      1    499    500    Unknown      3              0"
      ]
     },
     "execution_count": 36,
     "metadata": {},
     "output_type": "execute_result"
    }
   ],
   "source": [
    "numeric_label=crossroad_df[\"label\"].str.replace(\"Unknown\",\"0\").str.replace(\"crossroad\",\"1\").astype(int)\n",
    "test_df=crossroad_df.copy()\n",
    "test_df[\"numeric_label\"]=numeric_label\n",
    "test_df.head(5)"
   ]
  },
  {
   "cell_type": "code",
   "execution_count": 49,
   "metadata": {},
   "outputs": [
    {
     "data": {
      "text/html": [
       "<div>\n",
       "<style scoped>\n",
       "    .dataframe tbody tr th:only-of-type {\n",
       "        vertical-align: middle;\n",
       "    }\n",
       "\n",
       "    .dataframe tbody tr th {\n",
       "        vertical-align: top;\n",
       "    }\n",
       "\n",
       "    .dataframe thead th {\n",
       "        text-align: right;\n",
       "    }\n",
       "</style>\n",
       "<table border=\"1\" class=\"dataframe\">\n",
       "  <thead>\n",
       "    <tr style=\"text-align: right;\">\n",
       "      <th></th>\n",
       "      <th>numeric_label</th>\n",
       "    </tr>\n",
       "    <tr>\n",
       "      <th>img_name</th>\n",
       "      <th></th>\n",
       "    </tr>\n",
       "  </thead>\n",
       "  <tbody>\n",
       "    <tr>\n",
       "      <th>center_0</th>\n",
       "      <td>0</td>\n",
       "    </tr>\n",
       "    <tr>\n",
       "      <th>center_1</th>\n",
       "      <td>0</td>\n",
       "    </tr>\n",
       "    <tr>\n",
       "      <th>center_10</th>\n",
       "      <td>0</td>\n",
       "    </tr>\n",
       "    <tr>\n",
       "      <th>center_11</th>\n",
       "      <td>0</td>\n",
       "    </tr>\n",
       "    <tr>\n",
       "      <th>center_12</th>\n",
       "      <td>1</td>\n",
       "    </tr>\n",
       "    <tr>\n",
       "      <th>...</th>\n",
       "      <td>...</td>\n",
       "    </tr>\n",
       "    <tr>\n",
       "      <th>center_78</th>\n",
       "      <td>0</td>\n",
       "    </tr>\n",
       "    <tr>\n",
       "      <th>center_79</th>\n",
       "      <td>0</td>\n",
       "    </tr>\n",
       "    <tr>\n",
       "      <th>center_8</th>\n",
       "      <td>0</td>\n",
       "    </tr>\n",
       "    <tr>\n",
       "      <th>center_80</th>\n",
       "      <td>0</td>\n",
       "    </tr>\n",
       "    <tr>\n",
       "      <th>center_9</th>\n",
       "      <td>4</td>\n",
       "    </tr>\n",
       "  </tbody>\n",
       "</table>\n",
       "<p>81 rows × 1 columns</p>\n",
       "</div>"
      ],
      "text/plain": [
       "           numeric_label\n",
       "img_name                \n",
       "center_0               0\n",
       "center_1               0\n",
       "center_10              0\n",
       "center_11              0\n",
       "center_12              1\n",
       "...                  ...\n",
       "center_78              0\n",
       "center_79              0\n",
       "center_8               0\n",
       "center_80              0\n",
       "center_9               4\n",
       "\n",
       "[81 rows x 1 columns]"
      ]
     },
     "execution_count": 49,
     "metadata": {},
     "output_type": "execute_result"
    }
   ],
   "source": [
    "test_grouped=test_df[[\"img_name\",\"numeric_label\"]].groupby([\"img_name\"]).sum()\n",
    "test_grouped"
   ]
  },
  {
   "cell_type": "code",
   "execution_count": 10,
   "metadata": {},
   "outputs": [
    {
     "data": {
      "text/html": [
       "<div>\n",
       "<style scoped>\n",
       "    .dataframe tbody tr th:only-of-type {\n",
       "        vertical-align: middle;\n",
       "    }\n",
       "\n",
       "    .dataframe tbody tr th {\n",
       "        vertical-align: top;\n",
       "    }\n",
       "\n",
       "    .dataframe thead th {\n",
       "        text-align: right;\n",
       "    }\n",
       "</style>\n",
       "<table border=\"1\" class=\"dataframe\">\n",
       "  <thead>\n",
       "    <tr style=\"text-align: right;\">\n",
       "      <th></th>\n",
       "      <th>img_name</th>\n",
       "      <th>x_min</th>\n",
       "      <th>y_min</th>\n",
       "      <th>x_max</th>\n",
       "      <th>y_max</th>\n",
       "      <th>label</th>\n",
       "      <th>count</th>\n",
       "      <th>min_x_cord</th>\n",
       "      <th>max_x_cord</th>\n",
       "      <th>min_y_cord</th>\n",
       "      <th>max_y_cord</th>\n",
       "    </tr>\n",
       "  </thead>\n",
       "  <tbody>\n",
       "    <tr>\n",
       "      <th>0</th>\n",
       "      <td>center_0</td>\n",
       "      <td>1</td>\n",
       "      <td>1</td>\n",
       "      <td>496</td>\n",
       "      <td>497</td>\n",
       "      <td>Unknown</td>\n",
       "      <td>0</td>\n",
       "      <td>24.941622</td>\n",
       "      <td>24.942265</td>\n",
       "      <td>60.170030</td>\n",
       "      <td>60.170378</td>\n",
       "    </tr>\n",
       "    <tr>\n",
       "      <th>1</th>\n",
       "      <td>center_1</td>\n",
       "      <td>2</td>\n",
       "      <td>1</td>\n",
       "      <td>497</td>\n",
       "      <td>500</td>\n",
       "      <td>Unknown</td>\n",
       "      <td>1</td>\n",
       "      <td>24.941622</td>\n",
       "      <td>24.942265</td>\n",
       "      <td>60.170378</td>\n",
       "      <td>60.170725</td>\n",
       "    </tr>\n",
       "    <tr>\n",
       "      <th>2</th>\n",
       "      <td>center_2</td>\n",
       "      <td>344</td>\n",
       "      <td>390</td>\n",
       "      <td>491</td>\n",
       "      <td>479</td>\n",
       "      <td>crossroad</td>\n",
       "      <td>2</td>\n",
       "      <td>24.941622</td>\n",
       "      <td>24.942265</td>\n",
       "      <td>60.170725</td>\n",
       "      <td>60.171073</td>\n",
       "    </tr>\n",
       "    <tr>\n",
       "      <th>3</th>\n",
       "      <td>center_2</td>\n",
       "      <td>333</td>\n",
       "      <td>291</td>\n",
       "      <td>484</td>\n",
       "      <td>365</td>\n",
       "      <td>crossroad</td>\n",
       "      <td>2</td>\n",
       "      <td>24.941622</td>\n",
       "      <td>24.942265</td>\n",
       "      <td>60.170725</td>\n",
       "      <td>60.171073</td>\n",
       "    </tr>\n",
       "    <tr>\n",
       "      <th>4</th>\n",
       "      <td>center_3</td>\n",
       "      <td>1</td>\n",
       "      <td>1</td>\n",
       "      <td>499</td>\n",
       "      <td>500</td>\n",
       "      <td>Unknown</td>\n",
       "      <td>3</td>\n",
       "      <td>24.941622</td>\n",
       "      <td>24.942265</td>\n",
       "      <td>60.171073</td>\n",
       "      <td>60.171420</td>\n",
       "    </tr>\n",
       "  </tbody>\n",
       "</table>\n",
       "</div>"
      ],
      "text/plain": [
       "   img_name  x_min  y_min  x_max  y_max      label  count  min_x_cord  \\\n",
       "0  center_0      1      1    496    497    Unknown      0   24.941622   \n",
       "1  center_1      2      1    497    500    Unknown      1   24.941622   \n",
       "2  center_2    344    390    491    479  crossroad      2   24.941622   \n",
       "3  center_2    333    291    484    365  crossroad      2   24.941622   \n",
       "4  center_3      1      1    499    500    Unknown      3   24.941622   \n",
       "\n",
       "   max_x_cord  min_y_cord  max_y_cord  \n",
       "0   24.942265   60.170030   60.170378  \n",
       "1   24.942265   60.170378   60.170725  \n",
       "2   24.942265   60.170725   60.171073  \n",
       "3   24.942265   60.170725   60.171073  \n",
       "4   24.942265   60.171073   60.171420  "
      ]
     },
     "execution_count": 10,
     "metadata": {},
     "output_type": "execute_result"
    }
   ],
   "source": [
    "\n",
    "new_df=pd.merge(crossroad_df,df,how='left', on=[\"img_name\"])\n",
    "new_df.head(5)"
   ]
  },
  {
   "cell_type": "code",
   "execution_count": null,
   "metadata": {},
   "outputs": [],
   "source": []
  },
  {
   "cell_type": "code",
   "execution_count": 11,
   "metadata": {},
   "outputs": [
    {
     "name": "stdout",
     "output_type": "stream",
     "text": [
      "0.0006428888888905249\n",
      "0.00034755555555676665\n",
      "***********************************************\n",
      "6.951111111135333e-07\n",
      "1.2857777777810497e-06\n"
     ]
    }
   ],
   "source": [
    "##calculating width of a patch in terms of latitude and logitude\n",
    "x_cordinate_interval=max_x_cord[1]-min_x_cord[1]\n",
    "y_cordinate_interval=max_y_cord[1]-min_y_cord[1]\n",
    "print(x_cordinate_interval)\n",
    "print(y_cordinate_interval)\n",
    "print(\"***********************************************\")\n",
    "\n",
    "##calculating the ratio of coordinate to image size\n",
    "image_size=(500,500)\n",
    "one_ybounding_translation=y_cordinate_interval/image_size[0]\n",
    "one_xbounding_translation=x_cordinate_interval/image_size[0]\n",
    "print(one_ybounding_translation)\n",
    "print(one_xbounding_translation)\n"
   ]
  },
  {
   "cell_type": "code",
   "execution_count": 12,
   "metadata": {},
   "outputs": [],
   "source": [
    "#translation to coordinates and finally adding coordinates of each label to the dataframe\n",
    "new_df[\"minLat\"]=new_df[\"min_x_cord\"]+new_df[\"x_min\"]*one_xbounding_translation\n",
    "new_df[\"minLon\"]=new_df[\"max_y_cord\"]-new_df[\"y_max\"]*one_ybounding_translation\n",
    "new_df[\"maxLat\"]=new_df[\"min_x_cord\"]+new_df[\"x_max\"]*one_xbounding_translation\n",
    "new_df[\"maxLon\"]=new_df[\"max_y_cord\"]-new_df[\"y_min\"]*one_ybounding_translation"
   ]
  },
  {
   "cell_type": "code",
   "execution_count": 13,
   "metadata": {},
   "outputs": [
    {
     "data": {
      "text/html": [
       "<div>\n",
       "<style scoped>\n",
       "    .dataframe tbody tr th:only-of-type {\n",
       "        vertical-align: middle;\n",
       "    }\n",
       "\n",
       "    .dataframe tbody tr th {\n",
       "        vertical-align: top;\n",
       "    }\n",
       "\n",
       "    .dataframe thead th {\n",
       "        text-align: right;\n",
       "    }\n",
       "</style>\n",
       "<table border=\"1\" class=\"dataframe\">\n",
       "  <thead>\n",
       "    <tr style=\"text-align: right;\">\n",
       "      <th></th>\n",
       "      <th>img_name</th>\n",
       "      <th>x_min</th>\n",
       "      <th>y_min</th>\n",
       "      <th>x_max</th>\n",
       "      <th>y_max</th>\n",
       "      <th>label</th>\n",
       "      <th>count</th>\n",
       "      <th>min_x_cord</th>\n",
       "      <th>max_x_cord</th>\n",
       "      <th>min_y_cord</th>\n",
       "      <th>max_y_cord</th>\n",
       "      <th>minLat</th>\n",
       "      <th>minLon</th>\n",
       "      <th>maxLat</th>\n",
       "      <th>maxLon</th>\n",
       "    </tr>\n",
       "  </thead>\n",
       "  <tbody>\n",
       "    <tr>\n",
       "      <th>0</th>\n",
       "      <td>center_0</td>\n",
       "      <td>1</td>\n",
       "      <td>1</td>\n",
       "      <td>496</td>\n",
       "      <td>497</td>\n",
       "      <td>Unknown</td>\n",
       "      <td>0</td>\n",
       "      <td>24.941622</td>\n",
       "      <td>24.942265</td>\n",
       "      <td>60.170030</td>\n",
       "      <td>60.170378</td>\n",
       "      <td>24.941623</td>\n",
       "      <td>60.170032</td>\n",
       "      <td>24.942260</td>\n",
       "      <td>60.170377</td>\n",
       "    </tr>\n",
       "    <tr>\n",
       "      <th>1</th>\n",
       "      <td>center_1</td>\n",
       "      <td>2</td>\n",
       "      <td>1</td>\n",
       "      <td>497</td>\n",
       "      <td>500</td>\n",
       "      <td>Unknown</td>\n",
       "      <td>1</td>\n",
       "      <td>24.941622</td>\n",
       "      <td>24.942265</td>\n",
       "      <td>60.170378</td>\n",
       "      <td>60.170725</td>\n",
       "      <td>24.941625</td>\n",
       "      <td>60.170378</td>\n",
       "      <td>24.942261</td>\n",
       "      <td>60.170724</td>\n",
       "    </tr>\n",
       "    <tr>\n",
       "      <th>2</th>\n",
       "      <td>center_2</td>\n",
       "      <td>344</td>\n",
       "      <td>390</td>\n",
       "      <td>491</td>\n",
       "      <td>479</td>\n",
       "      <td>crossroad</td>\n",
       "      <td>2</td>\n",
       "      <td>24.941622</td>\n",
       "      <td>24.942265</td>\n",
       "      <td>60.170725</td>\n",
       "      <td>60.171073</td>\n",
       "      <td>24.942064</td>\n",
       "      <td>60.170740</td>\n",
       "      <td>24.942253</td>\n",
       "      <td>60.170802</td>\n",
       "    </tr>\n",
       "    <tr>\n",
       "      <th>3</th>\n",
       "      <td>center_2</td>\n",
       "      <td>333</td>\n",
       "      <td>291</td>\n",
       "      <td>484</td>\n",
       "      <td>365</td>\n",
       "      <td>crossroad</td>\n",
       "      <td>2</td>\n",
       "      <td>24.941622</td>\n",
       "      <td>24.942265</td>\n",
       "      <td>60.170725</td>\n",
       "      <td>60.171073</td>\n",
       "      <td>24.942050</td>\n",
       "      <td>60.170819</td>\n",
       "      <td>24.942244</td>\n",
       "      <td>60.170870</td>\n",
       "    </tr>\n",
       "    <tr>\n",
       "      <th>4</th>\n",
       "      <td>center_3</td>\n",
       "      <td>1</td>\n",
       "      <td>1</td>\n",
       "      <td>499</td>\n",
       "      <td>500</td>\n",
       "      <td>Unknown</td>\n",
       "      <td>3</td>\n",
       "      <td>24.941622</td>\n",
       "      <td>24.942265</td>\n",
       "      <td>60.171073</td>\n",
       "      <td>60.171420</td>\n",
       "      <td>24.941623</td>\n",
       "      <td>60.171073</td>\n",
       "      <td>24.942264</td>\n",
       "      <td>60.171420</td>\n",
       "    </tr>\n",
       "  </tbody>\n",
       "</table>\n",
       "</div>"
      ],
      "text/plain": [
       "   img_name  x_min  y_min  x_max  y_max      label  count  min_x_cord  \\\n",
       "0  center_0      1      1    496    497    Unknown      0   24.941622   \n",
       "1  center_1      2      1    497    500    Unknown      1   24.941622   \n",
       "2  center_2    344    390    491    479  crossroad      2   24.941622   \n",
       "3  center_2    333    291    484    365  crossroad      2   24.941622   \n",
       "4  center_3      1      1    499    500    Unknown      3   24.941622   \n",
       "\n",
       "   max_x_cord  min_y_cord  max_y_cord     minLat     minLon     maxLat  \\\n",
       "0   24.942265   60.170030   60.170378  24.941623  60.170032  24.942260   \n",
       "1   24.942265   60.170378   60.170725  24.941625  60.170378  24.942261   \n",
       "2   24.942265   60.170725   60.171073  24.942064  60.170740  24.942253   \n",
       "3   24.942265   60.170725   60.171073  24.942050  60.170819  24.942244   \n",
       "4   24.942265   60.171073   60.171420  24.941623  60.171073  24.942264   \n",
       "\n",
       "      maxLon  \n",
       "0  60.170377  \n",
       "1  60.170724  \n",
       "2  60.170802  \n",
       "3  60.170870  \n",
       "4  60.171420  "
      ]
     },
     "execution_count": 13,
     "metadata": {},
     "output_type": "execute_result"
    }
   ],
   "source": [
    "new_df.head(5)"
   ]
  },
  {
   "cell_type": "code",
   "execution_count": 14,
   "metadata": {},
   "outputs": [],
   "source": [
    "##verify coordinate nmapping for cross_road in images center_2.jpg, center_76.pg\n",
    "img=wms.getmap(layers=[\"Ortoilmakuva_2019_5cm\"],srs=\"EPSG:4123\",bbox=(24.942064,60.170740,24.942253,60.170802),size=(500,500),format='image/png',transparent=True)\n",
    "out = open('images/check1.png', 'wb')\n",
    "out.write(img.read())\n",
    "out.close()\n",
    "\n",
    "img=wms.getmap(layers=[\"Ortoilmakuva_2019_5cm\"],srs=\"EPSG:4123\",bbox=(24.947315,60.171682,24.947404,60.171767),size=(500,500),format='image/png',transparent=True)\n",
    "out = open('images/check2.png', 'wb')\n",
    "out.write(img.read())\n",
    "out.close()"
   ]
  },
  {
   "cell_type": "code",
   "execution_count": null,
   "metadata": {},
   "outputs": [],
   "source": [
    "##We may be interested to know the specific coordinate rather than bounding bx for each level which can be obatianed as\n",
    "#new_df[\"mean_lat\"]=new_df[\"minLat\"]*0.5+new_df[\"maxLat\"]*0.5\n",
    "#new_df[\"mean_lon\"]=new_df[\"minLon\"]*0.5+new_df[\"maxLon\"]*0.5"
   ]
  },
  {
   "cell_type": "markdown",
   "metadata": {},
   "source": [
    "## Objective 2: ML Implementations"
   ]
  },
  {
   "cell_type": "code",
   "execution_count": 15,
   "metadata": {},
   "outputs": [
    {
     "name": "stderr",
     "output_type": "stream",
     "text": [
      "Using TensorFlow backend.\n"
     ]
    }
   ],
   "source": [
    "from scipy import ndimage\n",
    "from keras.preprocessing.image import ImageDataGenerator, array_to_img, img_to_array, load_img"
   ]
  },
  {
   "cell_type": "code",
   "execution_count": 16,
   "metadata": {},
   "outputs": [],
   "source": [
    "dataset=np.ndarray(shape=(len(image_files),500,500,3),dtype=np.float32)\n"
   ]
  },
  {
   "cell_type": "code",
   "execution_count": 56,
   "metadata": {},
   "outputs": [],
   "source": [
    "i = 0\n",
    "for _file in test_grouped.index:\n",
    "    #print(_file)\n",
    "    img = load_img(imgpath+ _file+\".png\")  # this is a PIL image\n",
    "    img.thumbnail(image_size)\n",
    "    # Convert to Numpy Array\n",
    "    x = img_to_array(img)  \n",
    "    #x = x.reshape((3, 120, 160))\n",
    "    # Normalize\n",
    "    x = (x - 128.0) / 128.0\n",
    "    dataset[i] = x\n",
    "    i += 1\n",
    "   "
   ]
  },
  {
   "cell_type": "code",
   "execution_count": 146,
   "metadata": {},
   "outputs": [
    {
     "data": {
      "text/plain": [
       "(81, 500, 500, 3)"
      ]
     },
     "execution_count": 146,
     "metadata": {},
     "output_type": "execute_result"
    }
   ],
   "source": [
    "dataset.shape"
   ]
  },
  {
   "cell_type": "code",
   "execution_count": 130,
   "metadata": {},
   "outputs": [],
   "source": [
    "from sklearn.model_selection import train_test_split\n",
    "#Splitting \n",
    "X_train, X_test, y_train, y_test = train_test_split(dataset,test_grouped[\"numeric_label\"].values, test_size=0.2)\n",
    "X_test, X_val, y_test, y_val = train_test_split(X_test, y_test, test_size=0.5)"
   ]
  },
  {
   "cell_type": "code",
   "execution_count": 131,
   "metadata": {},
   "outputs": [],
   "source": [
    "datagen = ImageDataGenerator(\n",
    "        rotation_range=90,\n",
    "        vertical_flip=True,\n",
    "        horizontal_flip=True)\n",
    "datagen.fit(X_train)\n",
    "val_datagen = ImageDataGenerator(\n",
    "        rotation_range=90,\n",
    "       vertical_flip=True,\n",
    "        horizontal_flip=True)\n",
    "val_datagen.fit(X_val)\n",
    "\n"
   ]
  },
  {
   "cell_type": "code",
   "execution_count": 132,
   "metadata": {},
   "outputs": [
    {
     "data": {
      "text/plain": [
       "<keras.preprocessing.image.ImageDataGenerator at 0x2317b2345c0>"
      ]
     },
     "execution_count": 132,
     "metadata": {},
     "output_type": "execute_result"
    }
   ],
   "source": [
    "datagen"
   ]
  },
  {
   "cell_type": "code",
   "execution_count": 133,
   "metadata": {},
   "outputs": [],
   "source": [
    "from keras.optimizers import SGD\n",
    "from keras.models import Sequential\n",
    "from keras.layers import Dense, Dropout, Activation, Flatten\n",
    "from keras.layers import Convolution2D, MaxPooling2D\n",
    "from keras.callbacks import EarlyStopping"
   ]
  },
  {
   "cell_type": "code",
   "execution_count": 134,
   "metadata": {},
   "outputs": [
    {
     "name": "stderr",
     "output_type": "stream",
     "text": [
      "C:\\Users\\35841\\Anaconda3\\envs\\mllearn\\lib\\site-packages\\ipykernel_launcher.py:2: UserWarning: Update your `Conv2D` call to the Keras 2 API: `Conv2D(32, (3, 3), input_shape=(500, 500,...)`\n",
      "  \n",
      "C:\\Users\\35841\\Anaconda3\\envs\\mllearn\\lib\\site-packages\\ipykernel_launcher.py:6: UserWarning: Update your `Conv2D` call to the Keras 2 API: `Conv2D(32, (3, 3))`\n",
      "  \n",
      "C:\\Users\\35841\\Anaconda3\\envs\\mllearn\\lib\\site-packages\\ipykernel_launcher.py:10: UserWarning: Update your `Conv2D` call to the Keras 2 API: `Conv2D(64, (3, 3))`\n",
      "  # Remove the CWD from sys.path while we load stuff.\n"
     ]
    }
   ],
   "source": [
    "model = Sequential()\n",
    "model.add(Convolution2D(32, 3, 3, input_shape=X_train[0].shape))\n",
    "model.add(Activation('relu'))\n",
    "model.add(MaxPooling2D(pool_size=(2, 2)))\n",
    "\n",
    "model.add(Convolution2D(32, 3, 3))\n",
    "model.add(Activation('relu'))\n",
    "model.add(MaxPooling2D(pool_size=(2, 2)))\n",
    "\n",
    "model.add(Convolution2D(64, 3, 3))\n",
    "model.add(Activation('relu'))\n",
    "model.add(MaxPooling2D(pool_size=(2, 2)))\n",
    "\n",
    "model.add(Flatten()) \n",
    "model.add(Dense(64))\n",
    "model.add(Activation('linear'))\n",
    "model.add(Dropout(0.5))\n",
    "model.add(Dense(1))\n"
   ]
  },
  {
   "cell_type": "code",
   "execution_count": 141,
   "metadata": {},
   "outputs": [
    {
     "name": "stderr",
     "output_type": "stream",
     "text": [
      "C:\\Users\\35841\\Anaconda3\\envs\\mllearn\\lib\\site-packages\\ipykernel_launcher.py:11: UserWarning: The semantics of the Keras 2 argument `steps_per_epoch` is not the same as the Keras 1 argument `samples_per_epoch`. `steps_per_epoch` is the number of batches to draw from the generator at each epoch. Basically steps_per_epoch = samples_per_epoch/batch_size. Similarly `nb_val_samples`->`validation_steps` and `val_samples`->`steps` arguments have changed. Update your method calls accordingly.\n",
      "  # This is added back by InteractiveShellApp.init_path()\n",
      "C:\\Users\\35841\\Anaconda3\\envs\\mllearn\\lib\\site-packages\\ipykernel_launcher.py:11: UserWarning: Update your `fit_generator` call to the Keras 2 API: `fit_generator(<keras.pre..., validation_data=<keras.pre..., verbose=1, steps_per_epoch=2, epochs=5, validation_steps=9)`\n",
      "  # This is added back by InteractiveShellApp.init_path()\n"
     ]
    },
    {
     "name": "stdout",
     "output_type": "stream",
     "text": [
      "Epoch 1/5\n",
      "2/2 [==============================] - 14s 7s/step - loss: 81.8746 - val_loss: 292.8813\n",
      "Epoch 2/5\n",
      "2/2 [==============================] - 14s 7s/step - loss: 197.7567 - val_loss: 0.9121\n",
      "Epoch 3/5\n",
      "2/2 [==============================] - 14s 7s/step - loss: 1.5192 - val_loss: 0.8397\n",
      "Epoch 4/5\n",
      "2/2 [==============================] - 14s 7s/step - loss: 1.4426 - val_loss: 0.7788\n",
      "Epoch 5/5\n",
      "2/2 [==============================] - 13s 7s/step - loss: 1.5342 - val_loss: 0.7577\n"
     ]
    },
    {
     "data": {
      "text/plain": [
       "<keras.callbacks.callbacks.History at 0x23103b693c8>"
      ]
     },
     "execution_count": 141,
     "metadata": {},
     "output_type": "execute_result"
    }
   ],
   "source": [
    "sgd = SGD(lr=0.01, decay=1e-7, momentum=.9)\n",
    "    \n",
    "early_stop = EarlyStopping(monitor='val_loss', verbose=1, mode='auto')\n",
    "\n",
    "model.compile(loss='mse', optimizer='rmsprop')\n",
    "\n",
    "model.fit_generator(datagen.flow(X_train, y_train, batch_size=32), \n",
    "                    samples_per_epoch=len(X_train), validation_data=val_datagen.flow(X_val, y_val, batch_size=32),\n",
    "                    nb_val_samples=len(X_val), \n",
    "                    nb_epoch=5, \n",
    "                    verbose=1\n",
    "                    )\n"
   ]
  },
  {
   "cell_type": "code",
   "execution_count": 142,
   "metadata": {},
   "outputs": [
    {
     "name": "stdout",
     "output_type": "stream",
     "text": [
      "\r",
      "8/8 [==============================] - 0s 37ms/step\n"
     ]
    },
    {
     "data": {
      "text/plain": [
       "2.1761019229888916"
      ]
     },
     "execution_count": 142,
     "metadata": {},
     "output_type": "execute_result"
    }
   ],
   "source": [
    "predictions = model.predict(X_test)\n",
    "model.evaluate(X_test, y_test)"
   ]
  },
  {
   "cell_type": "code",
   "execution_count": 143,
   "metadata": {},
   "outputs": [
    {
     "name": "stdout",
     "output_type": "stream",
     "text": [
      "True  Predicted  Error   \n",
      "    0          0        0\n",
      "    4          0        4\n",
      "    0          0        0\n",
      "    0          0        0\n",
      "    0          0        0\n",
      "    2          0        2\n",
      "    0          0        0\n",
      "    2          0        2\n"
     ]
    }
   ],
   "source": [
    "print(\"{0:5} {1:10} {2:8}\".format(\"True\", \"Predicted\", \"Error\"))\n",
    "for i in range(len(predictions[:10])):\n",
    "    print(\"{0:5} {1:10} {2:8}\".format(y_test[i], int(predictions[i]), abs(y_test[i] - int(predictions[i]))))"
   ]
  },
  {
   "cell_type": "code",
   "execution_count": 82,
   "metadata": {},
   "outputs": [
    {
     "data": {
      "text/plain": [
       "(64, 500, 500, 3)"
      ]
     },
     "execution_count": 82,
     "metadata": {},
     "output_type": "execute_result"
    }
   ],
   "source": [
    "X_train.shape"
   ]
  },
  {
   "cell_type": "code",
   "execution_count": 83,
   "metadata": {},
   "outputs": [
    {
     "data": {
      "text/plain": [
       "(17, 500, 500, 3)"
      ]
     },
     "execution_count": 83,
     "metadata": {},
     "output_type": "execute_result"
    }
   ],
   "source": [
    "X_test.shape"
   ]
  },
  {
   "cell_type": "code",
   "execution_count": 21,
   "metadata": {},
   "outputs": [],
   "source": [
    "## more data\n",
    "minX=24.916459\n",
    "minY=60.229677\n",
    "maxX=24.966731 \n",
    "maxY=60.231718\n",
    "min_x_cord=[]\n",
    "max_x_cord=[]\n",
    "min_y_cord=[]\n",
    "max_y_cord=[]\n",
    "img_name=[]\n",
    "a=np.linspace(minX,maxX,7)\n",
    "b=np.linspace(minY,maxY,7)\n",
    "counter=0\n",
    "imgpath=\"C:/Users/35841/images/moredata/\"\n",
    "image_files=[f for f in os.listdir(imgpath)]\n",
    "\n"
   ]
  },
  {
   "cell_type": "code",
   "execution_count": 22,
   "metadata": {},
   "outputs": [],
   "source": [
    "##Creating patches for the image\n",
    "for i in range(0,len(a)-1):\n",
    "    for j in range(0,len(b)-1):\n",
    "        image_name='outside_'+str(counter)\n",
    "        if not image_files:\n",
    "            img=wms.getmap(layers=[\"Ortoilmakuva_2019_5cm\"],srs=\"EPSG:4123\",bbox=(a[i],b[j],a[i+1],b[j+1]),size=(50,50),format='image/png',transparent=True)\n",
    "            out = open(\"C:/Users/35841/images/moredata/\"+image_name+'.png', 'wb')\n",
    "            out.write(img.read())\n",
    "            out.close()\n",
    "        min_x_cord.append(a[i])\n",
    "        min_y_cord.append(b[j])\n",
    "        max_x_cord.append(a[i+1])\n",
    "        max_y_cord.append(b[j+1])\n",
    "        img_name.append(image_name)\n",
    "        counter+=1"
   ]
  },
  {
   "cell_type": "code",
   "execution_count": null,
   "metadata": {},
   "outputs": [],
   "source": []
  }
 ],
 "metadata": {
  "kernelspec": {
   "display_name": "Python 3",
   "language": "python",
   "name": "python3"
  },
  "language_info": {
   "codemirror_mode": {
    "name": "ipython",
    "version": 3
   },
   "file_extension": ".py",
   "mimetype": "text/x-python",
   "name": "python",
   "nbconvert_exporter": "python",
   "pygments_lexer": "ipython3",
   "version": "3.7.3"
  },
  "toc": {
   "base_numbering": 1,
   "nav_menu": {},
   "number_sections": false,
   "sideBar": true,
   "skip_h1_title": false,
   "title_cell": "Table of Contents",
   "title_sidebar": "Contents",
   "toc_cell": false,
   "toc_position": {},
   "toc_section_display": true,
   "toc_window_display": false
  },
  "varInspector": {
   "cols": {
    "lenName": 16,
    "lenType": 16,
    "lenVar": 40
   },
   "kernels_config": {
    "python": {
     "delete_cmd_postfix": "",
     "delete_cmd_prefix": "del ",
     "library": "var_list.py",
     "varRefreshCmd": "print(var_dic_list())"
    },
    "r": {
     "delete_cmd_postfix": ") ",
     "delete_cmd_prefix": "rm(",
     "library": "var_list.r",
     "varRefreshCmd": "cat(var_dic_list()) "
    }
   },
   "types_to_exclude": [
    "module",
    "function",
    "builtin_function_or_method",
    "instance",
    "_Feature"
   ],
   "window_display": false
  }
 },
 "nbformat": 4,
 "nbformat_minor": 2
}
